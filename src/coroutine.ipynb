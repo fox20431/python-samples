{
 "cells": [
  {
   "attachments": {},
   "cell_type": "markdown",
   "metadata": {},
   "source": [
    "# Coroutine"
   ]
  },
  {
   "attachments": {},
   "cell_type": "markdown",
   "metadata": {},
   "source": [
    "We need the built-in library named `asyncio` and other library to help learn it in the tutorial."
   ]
  },
  {
   "cell_type": "code",
   "execution_count": 16,
   "metadata": {},
   "outputs": [],
   "source": [
    "import asyncio\n",
    "import nest_asyncio\n",
    "import time"
   ]
  },
  {
   "attachments": {},
   "cell_type": "markdown",
   "metadata": {},
   "source": [
    "Let's set the library,"
   ]
  },
  {
   "cell_type": "code",
   "execution_count": 17,
   "metadata": {},
   "outputs": [],
   "source": [
    "# allow jupyter to run `asyncio` library\n",
    "nest_asyncio.apply()"
   ]
  },
  {
   "attachments": {},
   "cell_type": "markdown",
   "metadata": {},
   "source": [
    "Let's use `async` and `await` key words.\n",
    "\n",
    "Their usages are similar to JavaScript."
   ]
  },
  {
   "cell_type": "code",
   "execution_count": 18,
   "metadata": {},
   "outputs": [
    {
     "name": "stdout",
     "output_type": "stream",
     "text": [
      "hello\n",
      "world\n"
     ]
    }
   ],
   "source": [
    "async def main():\n",
    "\tprint('hello')\n",
    "\tawait asyncio.sleep(.5)\n",
    "\tprint('world')\n",
    "\n",
    "asyncio.run(main())"
   ]
  },
  {
   "attachments": {},
   "cell_type": "markdown",
   "metadata": {},
   "source": [
    "Other example:"
   ]
  },
  {
   "cell_type": "code",
   "execution_count": 19,
   "metadata": {},
   "outputs": [
    {
     "name": "stdout",
     "output_type": "stream",
     "text": [
      "<class 'coroutine'>\n"
     ]
    }
   ],
   "source": [
    "async def main():\n",
    "\tprint('hello\\n')\n",
    "\tawait asyncio.sleep(1)\n",
    "\tprint('world\\n')\n",
    "\n",
    "coro = main()\n",
    "print(type(coro)) "
   ]
  },
  {
   "attachments": {},
   "cell_type": "markdown",
   "metadata": {},
   "source": [
    "By the above example, we learn that the `async` function returns an object of type coroutine."
   ]
  },
  {
   "attachments": {},
   "cell_type": "markdown",
   "metadata": {},
   "source": [
    "Let's see the follow example:"
   ]
  },
  {
   "cell_type": "code",
   "execution_count": 20,
   "metadata": {},
   "outputs": [
    {
     "name": "stdout",
     "output_type": "stream",
     "text": [
      "started at 20:44:08\n",
      "hello\n",
      "world\n",
      "finished at 20:44:11\n"
     ]
    }
   ],
   "source": [
    "async def say_after(delay, words):\n",
    "\tawait asyncio.sleep(delay)\n",
    "\tprint(words)\n",
    "\n",
    "async def main():\n",
    "\tprint(f\"started at {time.strftime('%X')}\")\n",
    "\tawait say_after(2, \"hello\")\n",
    "\tawait say_after(1, \"world\")\n",
    "\tprint(f\"finished at {time.strftime('%X')}\")\n",
    "\n",
    "asyncio.run(main())"
   ]
  },
  {
   "attachments": {},
   "cell_type": "markdown",
   "metadata": {},
   "source": [
    "Since `await` will block the thread, so it will take 3 seconds (1+2)."
   ]
  },
  {
   "attachments": {},
   "cell_type": "markdown",
   "metadata": {},
   "source": [
    "However, I'd like them to run concurrently so that it finishes in two seconds."
   ]
  },
  {
   "attachments": {},
   "cell_type": "markdown",
   "metadata": {},
   "source": [
    "So you can program it like following:"
   ]
  },
  {
   "cell_type": "code",
   "execution_count": 21,
   "metadata": {},
   "outputs": [
    {
     "name": "stdout",
     "output_type": "stream",
     "text": [
      "started at 20:44:11\n",
      "<class 'asyncio.tasks.Task'>\n",
      "world\n",
      "hello\n",
      "finished at 20:44:13\n"
     ]
    }
   ],
   "source": [
    "async def say_after(delay, words):\n",
    "\tawait asyncio.sleep(delay)\n",
    "\tprint(words)\n",
    "\n",
    "async def main():\n",
    "\tprint(f\"started at {time.strftime('%X')}\")\n",
    "\ttask1 = asyncio.create_task(say_after(2, \"hello\"))\n",
    "\ttask2 = asyncio.create_task(say_after(1, \"world\"))\n",
    "\tprint(type(task1))\n",
    "\tawait task1\n",
    "\tawait task2\n",
    "\tprint(f\"finished at {time.strftime('%X')}\")\n",
    "\n",
    "asyncio.run(main())"
   ]
  },
  {
   "attachments": {},
   "cell_type": "markdown",
   "metadata": {},
   "source": [
    "When you encapsulate `coroutine` object to `task` using `asyncio.create_task()` API.\n",
    "\n",
    "You can let all tasks run concurrently. And we has known they are `task` type using the `type()` "
   ]
  },
  {
   "attachments": {},
   "cell_type": "markdown",
   "metadata": {},
   "source": [
    "As we known, `await` does not only block but also return the result of `corotine` or `task`."
   ]
  },
  {
   "cell_type": "code",
   "execution_count": 22,
   "metadata": {},
   "outputs": [
    {
     "name": "stdout",
     "output_type": "stream",
     "text": [
      "started at 20:44:13\n",
      "world\n",
      "hello\n",
      "finished at 20:44:15\n",
      "the task results is: 2 - hello, 1 - world\n"
     ]
    }
   ],
   "source": [
    "async def say_after(delay, words):\n",
    "\tawait asyncio.sleep(delay)\n",
    "\tprint(words)\n",
    "\treturn f\"{delay} - {words}\"\n",
    "\n",
    "\n",
    "async def main():\n",
    "\tprint(f\"started at {time.strftime('%X')}\")\n",
    "\ttask1 = asyncio.create_task(say_after(2, \"hello\"))\n",
    "\ttask2 = asyncio.create_task(say_after(1, \"world\"))\n",
    "\tresult1 = await task1\n",
    "\tresult2 = await task2\n",
    "\tprint(f\"finished at {time.strftime('%X')}\")\n",
    "\tprint(f\"the task results is: {result1}, {result2}\")\n",
    "\n",
    "asyncio.run(main())"
   ]
  },
  {
   "attachments": {},
   "cell_type": "markdown",
   "metadata": {},
   "source": [
    "When the program has a lot of `coroutines` or `tasks`, how to return them all."
   ]
  },
  {
   "cell_type": "code",
   "execution_count": 23,
   "metadata": {},
   "outputs": [
    {
     "name": "stdout",
     "output_type": "stream",
     "text": [
      "started at 20:44:15\n",
      "world\n",
      "hello\n",
      "finished at 20:44:17\n",
      "the task results is: ['2 - hello', '1 - world']\n"
     ]
    }
   ],
   "source": [
    "async def say_after(delay, words):\n",
    "\tawait asyncio.sleep(delay)\n",
    "\tprint(words)\n",
    "\treturn f\"{delay} - {words}\"\n",
    "\n",
    "\n",
    "async def main():\n",
    "\tprint(f\"started at {time.strftime('%X')}\")\n",
    "\tresults = await asyncio.gather(say_after(2, \"hello\"), say_after(1, \"world\"))\n",
    "\tprint(f\"finished at {time.strftime('%X')}\")\n",
    "\tprint(f\"the task results is: {results}\")\n",
    "\n",
    "asyncio.run(main())"
   ]
  },
  {
   "cell_type": "code",
   "execution_count": 32,
   "metadata": {},
   "outputs": [
    {
     "name": "stdout",
     "output_type": "stream",
     "text": [
      "140247748651680\n",
      "140247748651680\n"
     ]
    }
   ],
   "source": [
    "loop1 = asyncio.get_event_loop()\n",
    "loop2 = asyncio.get_event_loop()\n",
    "\n",
    "print(id(loop1))\n",
    "print(id(loop2))"
   ]
  },
  {
   "cell_type": "code",
   "execution_count": null,
   "metadata": {},
   "outputs": [],
   "source": [
    "from typing import *\n",
    "\n",
    "Union"
   ]
  }
 ],
 "metadata": {
  "kernelspec": {
   "display_name": "venv",
   "language": "python",
   "name": "python3"
  },
  "language_info": {
   "codemirror_mode": {
    "name": "ipython",
    "version": 3
   },
   "file_extension": ".py",
   "mimetype": "text/x-python",
   "name": "python",
   "nbconvert_exporter": "python",
   "pygments_lexer": "ipython3",
   "version": "3.10.9"
  },
  "orig_nbformat": 4,
  "vscode": {
   "interpreter": {
    "hash": "68467fba01d1c239ed180d3d4fa783005a1697d4d8587e8aacb92b66f77ea9fe"
   }
  }
 },
 "nbformat": 4,
 "nbformat_minor": 2
}
