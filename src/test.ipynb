{
 "cells": [
  {
   "attachments": {},
   "cell_type": "markdown",
   "metadata": {},
   "source": [
    "`is / is not` compare the addresses\n",
    "\n",
    "`== / !=` compare the values"
   ]
  },
  {
   "cell_type": "code",
   "execution_count": 8,
   "metadata": {},
   "outputs": [
    {
     "name": "stdout",
     "output_type": "stream",
     "text": [
      "140652997434224\n",
      "140652953057008\n"
     ]
    }
   ],
   "source": [
    "a = \"hi\"\n",
    "b = \"hello\"\n",
    "\n",
    "print(id(a))\n",
    "print(id(b))\n",
    "\n",
    "if a is b:\n",
    "\tprint('halo')"
   ]
  }
 ],
 "metadata": {
  "kernelspec": {
   "display_name": "venv",
   "language": "python",
   "name": "python3"
  },
  "language_info": {
   "codemirror_mode": {
    "name": "ipython",
    "version": 3
   },
   "file_extension": ".py",
   "mimetype": "text/x-python",
   "name": "python",
   "nbconvert_exporter": "python",
   "pygments_lexer": "ipython3",
   "version": "3.10.9"
  },
  "orig_nbformat": 4,
  "vscode": {
   "interpreter": {
    "hash": "68467fba01d1c239ed180d3d4fa783005a1697d4d8587e8aacb92b66f77ea9fe"
   }
  }
 },
 "nbformat": 4,
 "nbformat_minor": 2
}
