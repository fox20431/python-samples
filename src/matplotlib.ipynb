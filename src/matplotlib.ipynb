{
 "cells": [
  {
   "cell_type": "code",
   "execution_count": null,
   "metadata": {},
   "outputs": [],
   "source": [
    "import matplotlib\n",
    "import numpy as np\n",
    "import matplotlib.pyplot as plt\n",
    "\n",
    "matplotlib.use('TkAgg')\n",
    "\n",
    "x = np.linspace(-np.pi, np.pi, 201)\n",
    "y = np.sin(2*np.pi*x)\n",
    "plt.plot(x, y)\n",
    "plt.title(r'$e=\\lim_{n \\to \\infty}{(1+\\frac{1}{n})^n}$')\n",
    "plt.xlabel('Angle [rad]')\n",
    "plt.ylabel('sin(x)')\n",
    "plt.show()\n"
   ]
  }
 ],
 "metadata": {
  "language_info": {
   "name": "python"
  },
  "orig_nbformat": 4
 },
 "nbformat": 4,
 "nbformat_minor": 2
}
