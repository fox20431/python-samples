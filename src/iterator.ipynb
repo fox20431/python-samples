{
 "cells": [
  {
   "cell_type": "markdown",
   "metadata": {},
   "source": [
    "# Interator"
   ]
  },
  {
   "attachments": {},
   "cell_type": "markdown",
   "metadata": {},
   "source": [
    "common iterable type is `string`, `list`, `tuple`, `dictoinary`, `set`.\n",
    "\n",
    "like following:"
   ]
  },
  {
   "cell_type": "code",
   "execution_count": 85,
   "metadata": {},
   "outputs": [
    {
     "name": "stdout",
     "output_type": "stream",
     "text": [
      "iterable object: abc\n",
      "a\n",
      "b\n",
      "c\n",
      "iterable object: [1, 2, 3]\n",
      "1\n",
      "2\n",
      "3\n",
      "iterable object: (1, 2, 3)\n",
      "1\n",
      "2\n",
      "3\n",
      "iterable object: {1: 'a', 2: 'b'}\n",
      "1\n",
      "2\n",
      "iterable object: {1, 2, 3}\n",
      "1\n",
      "2\n",
      "3\n"
     ]
    }
   ],
   "source": [
    "iter_objs = [\n",
    "\t\"abc\",\t\t\t\t\t\t# string\n",
    "\t[1, 2, 3],\t\t\t\t# list\n",
    "\t(1, 2, 3),\t\t\t\t# tuple\n",
    "\t{1: 'a', 2: 'b'},\t# dictionary\n",
    "\t{1, 2, 3} \t\t\t\t# set\n",
    "]\n",
    "\n",
    "for iter_obj in iter_objs:\n",
    "\tprint(f\"iterable object: {iter_obj}\")\n",
    "\tfor e in iter_obj:\n",
    "\t\tprint(e)"
   ]
  },
  {
   "attachments": {},
   "cell_type": "markdown",
   "metadata": {},
   "source": [
    "Now, we need to know something same in them.\n",
    "\n",
    "For class, we need to know the same attribute in them.\n",
    "\n",
    "Now, we start to construct a function."
   ]
  },
  {
   "cell_type": "code",
   "execution_count": 86,
   "metadata": {},
   "outputs": [],
   "source": [
    "def common_attrs(*objs):\n",
    "\tattrs = set(dir(objs[0])) # `dir()` get all attribute\n",
    "\tfor obj in objs[1:]:\n",
    "\t\tattrs &= set(dir(obj)) # get the intersection\n",
    "\tattrs -= set(dir(object)) # delete the base attribute\n",
    "\treturn attrs"
   ]
  },
  {
   "attachments": {},
   "cell_type": "markdown",
   "metadata": {},
   "source": [
    "Using the above, create a iterable object:"
   ]
  },
  {
   "cell_type": "code",
   "execution_count": 87,
   "metadata": {},
   "outputs": [],
   "source": [
    "iter_objs = [[1, 2, 3], (1, 2, 3), {1, 2, 3}]\n",
    "# add a file element, to filter more different attribute\n",
    "f = open('iterator.ipynb', 'r')\n",
    "iter_objs.append(f)"
   ]
  },
  {
   "attachments": {},
   "cell_type": "markdown",
   "metadata": {},
   "source": [
    "excute it"
   ]
  },
  {
   "cell_type": "code",
   "execution_count": 88,
   "metadata": {},
   "outputs": [
    {
     "data": {
      "text/plain": [
       "{'__iter__'}"
      ]
     },
     "execution_count": 88,
     "metadata": {},
     "output_type": "execute_result"
    }
   ],
   "source": [
    "common_attrs(*iter_objs)"
   ]
  },
  {
   "attachments": {},
   "cell_type": "markdown",
   "metadata": {},
   "source": [
    "By the above example, you can find all iterable object has the same attribute is `__iter__` method."
   ]
  },
  {
   "attachments": {},
   "cell_type": "markdown",
   "metadata": {},
   "source": [
    "Let's use `iter()` to get the iterator:"
   ]
  },
  {
   "cell_type": "code",
   "execution_count": 89,
   "metadata": {},
   "outputs": [
    {
     "name": "stdout",
     "output_type": "stream",
     "text": [
      "[<list_iterator object at 0x7f87f036f910>, <tuple_iterator object at 0x7f87f036cd30>, <set_iterator object at 0x7f87e1e64300>, <_io.TextIOWrapper name='iterator.ipynb' mode='r' encoding='UTF-8'>]\n"
     ]
    }
   ],
   "source": [
    "iterators = [iter(iter_obj) for iter_obj in iter_objs]\n",
    "print(iterators)"
   ]
  },
  {
   "attachments": {},
   "cell_type": "markdown",
   "metadata": {},
   "source": [
    "Using the same method, find the same attributes of iterator."
   ]
  },
  {
   "cell_type": "code",
   "execution_count": 90,
   "metadata": {},
   "outputs": [
    {
     "data": {
      "text/plain": [
       "{'__iter__', '__next__'}"
      ]
     },
     "execution_count": 90,
     "metadata": {},
     "output_type": "execute_result"
    }
   ],
   "source": [
    "common_attrs(*iterators)\n",
    "# dir(set_iterator)\n",
    "# dir(object)\n",
    "# set(dir(list_iterator)) & set(dir(tuple_iterator)) - set(dir(object))"
   ]
  },
  {
   "attachments": {},
   "cell_type": "markdown",
   "metadata": {},
   "source": [
    "So we know the same attributes are `__iter__` and `__next__`."
   ]
  },
  {
   "attachments": {},
   "cell_type": "markdown",
   "metadata": {},
   "source": [
    "Through the above understanding of iterators, now we use other methods to iterate."
   ]
  },
  {
   "cell_type": "code",
   "execution_count": 92,
   "metadata": {},
   "outputs": [
    {
     "name": "stdout",
     "output_type": "stream",
     "text": [
      "点赞\n",
      "投币\n",
      "收藏\n"
     ]
    }
   ],
   "source": [
    "actions = (\"点赞\", \"投币\", \"收藏\")\n",
    "iterator = iter(actions)\n",
    "action = next(iterator)\n",
    "print(action)\n",
    "action = next(iterator)\n",
    "print(action)\n",
    "action = next(iterator)\n",
    "print(action)\n",
    "lis"
   ]
  },
  {
   "attachments": {},
   "cell_type": "markdown",
   "metadata": {},
   "source": [
    "Now, we can use the knownledge to create iterable class:"
   ]
  },
  {
   "cell_type": "code",
   "execution_count": 95,
   "metadata": {},
   "outputs": [
    {
     "name": "stdout",
     "output_type": "stream",
     "text": [
      "('Sam', 'junior')\n",
      "('John', 'junior')\n",
      "('Marshal', 'junior')\n",
      "('Riti', 'senior')\n",
      "('Rani', 'senior')\n",
      "('Aadi', 'senior')\n"
     ]
    }
   ],
   "source": [
    "class Team:\n",
    "   '''\n",
    "   Contains List of Junior and senior team members and also overrides the __iter__() function.\n",
    "   '''\n",
    "   def __init__(self):\n",
    "       self._juniorMembers = list()\n",
    "       self._seniorMembers = list()\n",
    "   def addJuniorMembers(self, members):\n",
    "       self._juniorMembers += members\n",
    "   def addSeniorMembers(self, members):\n",
    "       self._seniorMembers += members\n",
    "   def __iter__(self):\n",
    "       ''' Returns the Iterator object '''\n",
    "       return TeamIterator(self)\n",
    "\n",
    "class TeamIterator:\n",
    "   ''' Iterator class '''\n",
    "   def __init__(self, team):\n",
    "       # Team object reference\n",
    "       self._team = team\n",
    "       # member variable to keep track of current index\n",
    "       self._index = 0\n",
    "   def __next__(self):\n",
    "       ''''Returns the next value from team object's lists '''\n",
    "       if self._index < (len(self._team._juniorMembers) + len(self._team._seniorMembers)) :\n",
    "           if self._index < len(self._team._juniorMembers): # Check if junior members are fully iterated or not\n",
    "               result = (self._team._juniorMembers[self._index] , 'junior')\n",
    "           else:\n",
    "               result = (self._team._seniorMembers[self._index - len(self._team._juniorMembers)]   , 'senior')\n",
    "           self._index +=1\n",
    "           return result\n",
    "       # End of Iteration\n",
    "       raise StopIteration\n",
    "\t\t\t \n",
    "# Create team class object\n",
    "team = Team()\n",
    "# Add name of junior team members\n",
    "team.addJuniorMembers(['Sam', 'John', 'Marshal'])\n",
    "# Add name of senior team members\n",
    "team.addSeniorMembers(['Riti', 'Rani', 'Aadi'])\n",
    "# Get Iterator object from Iterable Team class oject\n",
    "iterator = iter(team)\n",
    "# Iterate over the team object using iterator\n",
    "while True:\n",
    "    try:\n",
    "        # Get next element from TeamIterator object using iterator object\n",
    "        elem = next(iterator)\n",
    "        # Print the element\n",
    "        print(elem)\n",
    "    except StopIteration:\n",
    "        break"
   ]
  }
 ],
 "metadata": {
  "kernelspec": {
   "display_name": "venv",
   "language": "python",
   "name": "python3"
  },
  "language_info": {
   "codemirror_mode": {
    "name": "ipython",
    "version": 3
   },
   "file_extension": ".py",
   "mimetype": "text/x-python",
   "name": "python",
   "nbconvert_exporter": "python",
   "pygments_lexer": "ipython3",
   "version": "3.10.9"
  },
  "orig_nbformat": 4,
  "vscode": {
   "interpreter": {
    "hash": "68467fba01d1c239ed180d3d4fa783005a1697d4d8587e8aacb92b66f77ea9fe"
   }
  }
 },
 "nbformat": 4,
 "nbformat_minor": 2
}
